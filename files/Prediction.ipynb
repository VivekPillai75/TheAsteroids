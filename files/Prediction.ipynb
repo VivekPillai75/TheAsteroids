{
 "cells": [
  {
   "cell_type": "code",
   "execution_count": null,
   "id": "4621916b",
   "metadata": {},
   "outputs": [],
   "source": [
    "from sklearn.ensemble import RandomForestClassifier\n",
    "import pandas as pd\n",
    "import pickle\n",
    "#we are loading the model using pickle\n",
    "model = pickle.load(open('SOI', 'rb'))\n",
    "def predictor(df):\n",
    "    predictions=model.predict(df)\n",
    "    df['predictions']=predictions\n",
    "    return(df)"
   ]
  }
 ],
 "metadata": {
  "kernelspec": {
   "display_name": "Python 3 (ipykernel)",
   "language": "python",
   "name": "python3"
  },
  "language_info": {
   "codemirror_mode": {
    "name": "ipython",
    "version": 3
   },
   "file_extension": ".py",
   "mimetype": "text/x-python",
   "name": "python",
   "nbconvert_exporter": "python",
   "pygments_lexer": "ipython3",
   "version": "3.9.7"
  }
 },
 "nbformat": 4,
 "nbformat_minor": 5
}
